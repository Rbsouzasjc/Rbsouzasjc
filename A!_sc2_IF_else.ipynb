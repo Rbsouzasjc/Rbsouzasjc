{
  "cells": [
    {
      "cell_type": "markdown",
      "metadata": {
        "id": "view-in-github",
        "colab_type": "text"
      },
      "source": [
        "<a href=\"https://colab.research.google.com/github/Rbsouzasjc/Rbsouzasjc/blob/main/A!_sc2_IF_else.ipynb\" target=\"_parent\"><img src=\"https://colab.research.google.com/assets/colab-badge.svg\" alt=\"Open In Colab\"/></a>"
      ]
    },
    {
      "cell_type": "code",
      "source": [
        "y=3\n",
        "x=9\n",
        "a=0\n",
        "b=0\n",
        "c=2\n",
        "if x>10:\n",
        "    y=x+99\n",
        "    a=x*2\n",
        "    b=x+5\n",
        "    c=x**2\n",
        "print(y,a,b,c)"
      ],
      "metadata": {
        "colab": {
          "base_uri": "https://localhost:8080/"
        },
        "id": "3W9i3P4yfCRk",
        "outputId": "d10960d0-58d1-46c9-8bca-3ef31818bc1b"
      },
      "execution_count": null,
      "outputs": [
        {
          "output_type": "stream",
          "name": "stdout",
          "text": [
            "3 0 0 2\n"
          ]
        }
      ]
    },
    {
      "cell_type": "code",
      "source": [
        "idade=72\n",
        "tempo_de_contrb=20\n",
        "if idade>= 65 or tempo_de_contrb<10:\n",
        "  print('não abilitaddo para aposentadoria')\n",
        "  else\n",
        "      print('não abilitaddo para aposentadoria')"
      ],
      "metadata": {
        "colab": {
          "base_uri": "https://localhost:8080/",
          "height": 130
        },
        "id": "bOu2SxIYis97",
        "outputId": "e40b6fec-cdec-4abb-ed28-ee9b0543c578"
      },
      "execution_count": null,
      "outputs": [
        {
          "output_type": "error",
          "ename": "SyntaxError",
          "evalue": "ignored",
          "traceback": [
            "\u001b[0;36m  File \u001b[0;32m\"<ipython-input-32-e243204912d9>\"\u001b[0;36m, line \u001b[0;32m5\u001b[0m\n\u001b[0;31m    else\u001b[0m\n\u001b[0m    ^\u001b[0m\n\u001b[0;31mSyntaxError\u001b[0m\u001b[0;31m:\u001b[0m invalid syntax\n"
          ]
        }
      ]
    },
    {
      "cell_type": "code",
      "source": [
        "exemplo de a condição é verdadeira"
      ],
      "metadata": {
        "id": "EOEiRgCbm0mH"
      },
      "execution_count": null,
      "outputs": []
    }
  ],
  "metadata": {
    "colab": {
      "provenance": [],
      "toc_visible": true,
      "authorship_tag": "ABX9TyN73Kq/Qe90CeCcIzF17jTl",
      "include_colab_link": true
    },
    "kernelspec": {
      "display_name": "Python 3",
      "name": "python3"
    },
    "language_info": {
      "name": "python"
    }
  },
  "nbformat": 4,
  "nbformat_minor": 0
}